{
 "cells": [
  {
   "cell_type": "markdown",
   "metadata": {},
   "source": [
    "## Prepare for Twitch Stream\n",
    "1. **System Config**\n",
    "  * Set Desktop Audio to \"*Speaker (Yeti Stereo Microphone)*\"\n",
    "  * Attach headphones to Blue Yeti\n",
    "1. **Open Snaz**\n",
    "\n",
    "1. **Start Spotify**\n",
    "\n",
    "1. **Open OBS**\n",
    "  * Verify Using correct stream key\n",
    "\n",
    "1. **Start VSCode**\n",
    "  * Run in Non-GPU mode\n",
    "  * Open Shared Folder *Z:\\Scripting*\n",
    "\n",
    "1. **Start VirtualBox**\n",
    "   * Start Ubuntu Server\n",
    "\n",
    "1. **Start Chrome**\n",
    "\n",
    "1. **Start Jupyter Notebook**\n",
    "  * Open Stream Notes\n",
    "  * Move Jupyter Browser tab to own Chrome Window so it is not shown in stream. \n"
   ]
  },
  {
   "cell_type": "markdown",
   "metadata": {},
   "source": [
    "## To Do\n",
    "\n",
    "* Write a powershell script to Open every thing\n",
    " 1. Set Desktop Audio  \n",
    " 1. Open Snaz (Minimize) Console\n",
    " 1. Start Spotify\n",
    " 1. Start VSCode in Non-GPU Mode\n",
    " 1. Start Vitrual Box and Ubuntu VM\n",
    " 1. Open Twitch Channel and Popout Chat Window\n",
    " \n",
    " "
   ]
  },
  {
   "cell_type": "markdown",
   "metadata": {
    "collapsed": true
   },
   "source": [
    "## Notes\n",
    "\n",
    "OBS CLI switches (https://obsproject.com/forum/threads/parameters-command-line.9805/)\n",
    "\n",
    "https://jp9000.github.io/OBS/general/shortcut.html\n",
    "\n",
    "The following commands can be used:\n",
    "-multi : start multiple instances of OBS (combine with -profile and or -portable)\n",
    "-portable : run OBS in a portable mode that saves all settings to the main OBS folder, instead of your %appdata% folder\n",
    "-start : run OBS and automatically start streaming (and recording if that is activated)\n",
    "-profile \"profile name\" : start OBS with mentioned profile\n",
    "-scenecollection \"scene collection name\" : start OBS with mentioned scene collection\n"
   ]
  }
 ],
 "metadata": {
  "kernelspec": {
   "display_name": "Python 3",
   "language": "python",
   "name": "python3"
  },
  "language_info": {
   "codemirror_mode": {
    "name": "ipython",
    "version": 3
   },
   "file_extension": ".py",
   "mimetype": "text/x-python",
   "name": "python",
   "nbconvert_exporter": "python",
   "pygments_lexer": "ipython3",
   "version": "3.6.0"
  }
 },
 "nbformat": 4,
 "nbformat_minor": 2
}
