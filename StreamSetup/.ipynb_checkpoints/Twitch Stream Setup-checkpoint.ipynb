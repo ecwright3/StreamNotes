{
 "cells": [
  {
   "cell_type": "markdown",
   "metadata": {},
   "source": [
    "## Prepare for Twitch Stream\n",
    "1. **System Config**\n",
    "  * Set Desktop Audio to \"*Speaker (Yeti Stereo Microphone)*\"\n",
    "  * Attach headphones to Blue Yeti\n",
    "1. **Open Snaz**\n",
    "\n",
    "1. **Start Spotify**\n",
    "\n",
    "1. **Open OBS**\n",
    "  * Verify Using correct stream key\n",
    "\n",
    "1. **Start VSCode**\n",
    "  * Run in Non-GPU mode\n",
    "  * Open Shared Folder *Z:\\Scripting*\n",
    "\n",
    "1. **Start VirtualBox**\n",
    "   * Start Ubuntu Server\n",
    "\n",
    "1. **Start Chrome**\n",
    "\n",
    "1. **Start Jupyter Notebook**\n",
    "  * Open Stream Notes\n",
    "  * Move Jupyter Browser tab to own Chrome Window so it is not shown in stream. \n"
   ]
  },
  {
   "cell_type": "markdown",
   "metadata": {},
   "source": [
    "## To Do\n",
    "\n",
    "* Write a powershell script to Open every thing\n",
    " 1. Set Desktop Audio  \n",
    " 1. Open Snaz (Minimize) Console\n",
    " 1. Start Spotify\n",
    " 1. Start VSCode in Non-GPU Mode\n",
    " 1. Start Vitrual Box and Ubuntu VM\n",
    " 1. Open Twitch Channel and Popout Chat Window\n",
    " \n",
    " "
   ]
  },
  {
   "cell_type": "code",
   "execution_count": null,
   "metadata": {
    "collapsed": true
   },
   "outputs": [],
   "source": []
  }
 ],
 "metadata": {
  "kernelspec": {
   "display_name": "Python 3",
   "language": "python",
   "name": "python3"
  },
  "language_info": {
   "codemirror_mode": {
    "name": "ipython",
    "version": 3
   },
   "file_extension": ".py",
   "mimetype": "text/x-python",
   "name": "python",
   "nbconvert_exporter": "python",
   "pygments_lexer": "ipython3",
   "version": "3.6.0"
  }
 },
 "nbformat": 4,
 "nbformat_minor": 2
}
