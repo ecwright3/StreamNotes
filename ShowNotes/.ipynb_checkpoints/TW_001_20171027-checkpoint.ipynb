{
 "cells": [
  {
   "cell_type": "markdown",
   "metadata": {},
   "source": [
    "# Episode 1 - Show Notes\n",
    "\n",
    "* **Title:** Automate Twitch Pre-Stream Setup\n",
    "* **Planned Stream Date:** 27 October 2017\n",
    "* **Description:** Build a script to automatically perform all of the pre-stream setup.  \n",
    "* **Language:** Powershell"
   ]
  },
  {
   "cell_type": "markdown",
   "metadata": {},
   "source": [
    "## Introduction \n",
    "I wasn't sure what I should cover for my first show, but then I realized, I spent a lot of time installing and configuring just to get this stream running. So, automating the process a bit will make sure I don't forget any steps. \n",
    "\n",
    "Since I am running a windows system, it makes the most since to me to write a script in powershell. My end goal is to have a script that will do the following:\n",
    "\n",
    " 1. Set Desktop Audio\n",
    " 1. Start OBS\n",
    " 1. Open Snaz and Minimize Console\n",
    " 1. Start Spotify\n",
    " 1. Start VSCode in Non-GPU Mode\n",
    " 1. Start Vitrual Box and Ubuntu VM\n",
    " 1. Open Twitch Channel and Popout Chat Window\n",
    " \n",
    " ## Notes\n",
    "\n",
    "\n",
    "### Setting Desktop Audio\n",
    "\n",
    "\n",
    "### Start OBS\n",
    "OBS CLI switches (https://obsproject.com/forum/threads/parameters-command-line.9805/)\n",
    "\n",
    "https://jp9000.github.io/OBS/general/shortcut.html\n",
    "\n",
    "The following commands can be used:\n",
    "-multi : start multiple instances of OBS (combine with -profile and or -portable)\n",
    "-portable : run OBS in a portable mode that saves all settings to the main OBS folder, instead of your %appdata% folder\n",
    "-start : run OBS and automatically start streaming (and recording if that is activated)\n",
    "-profile \"profile name\" : start OBS with mentioned profile\n",
    "-scenecollection \"scene collection name\" : start OBS with mentioned scene collection\n",
    "\n",
    "### Open Snaz (Minimized)\n",
    "\n",
    "\n",
    "### Start Spotify \n",
    "\n",
    "\n",
    "### Start VS Code (Non-GPU)\n",
    " * Why do I need to do this?\n",
    "      * OBS does not recognize the VSCode window when VSCode is GPU Optimized\n",
    "      \n",
    "### Start Virtual Box\n",
    "\n",
    "\n",
    "#### Auto Start Ubuntu Virtual Machine\n",
    "\n",
    "\n",
    "### Open Twitch  (Pop-Out Chat Window) \n"
   ]
  },
  {
   "cell_type": "code",
   "execution_count": null,
   "metadata": {
    "collapsed": true
   },
   "outputs": [],
   "source": []
  }
 ],
 "metadata": {
  "kernelspec": {
   "display_name": "Python 3",
   "language": "python",
   "name": "python3"
  },
  "language_info": {
   "codemirror_mode": {
    "name": "ipython",
    "version": 3
   },
   "file_extension": ".py",
   "mimetype": "text/x-python",
   "name": "python",
   "nbconvert_exporter": "python",
   "pygments_lexer": "ipython3",
   "version": "3.6.0"
  }
 },
 "nbformat": 4,
 "nbformat_minor": 2
}
