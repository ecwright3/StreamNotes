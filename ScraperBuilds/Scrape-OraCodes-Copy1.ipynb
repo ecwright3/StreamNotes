{
 "cells": [
  {
   "cell_type": "markdown",
   "metadata": {},
   "source": [
    "# Project Overview\n",
    "\n",
    "Splunk has been deployed to collect Oracle database activity. The deployment is located in a closed network with no access to the internet. Because of this, we need to create a list of the error codes that can be referenced offline to provide additonal context to the logs being collected. The site \"http://www.ora-code.com\", is known to contain the information needed. We need to collect a copy of all possible Oracle error codes and their desctiptions. We will use this data to perfom correlation in Splunk. \n",
    "\n",
    "## Requirements\n",
    "Extract the contents of ora-code.com and convert the content to a format that can loaded into Splunk and used as a refrence source.\n",
    "\n",
    "\n",
    "### Tools\n",
    "\n",
    "For this project we will be using the following tools. \n",
    "* Language\n",
    "  * Python \n",
    "  * Python Modules\n",
    "    * Scrapy\n",
    "    * re (Regular Expressions)\n"
   ]
  },
  {
   "cell_type": "markdown",
   "metadata": {
    "collapsed": true
   },
   "source": [
    "## Order of Operations\n",
    "\n",
    " \n",
    "* Identify design patterns \n",
    "* Define elements that contain data we need to collect\n",
    "* on which we can base the scraper's algorithim.\n",
    "* Test and re-factor as nessary to resolve any issues\n",
    "* Validate a sample of the scraped data\n",
    "* Run scraper\n",
    "\n",
    "\n",
    "### Identify Design Patterns\n",
    "\n",
    "On the ORA-Code site the details for each error code is hosted on its own subdomain page. Each subdomain name follows the standard Oracle error code naming convention ORA-[return code]. \n",
    "\n",
    "Each of the detail pages contain a table with the 3 important pieces of data. The error message, the cause and a suggested action to take. This is the information that will be extracted from each detail page.\n",
    "\n",
    "Links to each of the detail pages can be found on the \"www\" subdomain. The links are spread across several numbered pages in groups of about 100 on each page.  The URLs for each page use the following format, *www.ora-code.com/code-#.html*, where \"#\" represents the page number. \n",
    "\n",
    "At the bottom of each link summary page, are indexed links to other summary pages. The index contains links for up to 20 summary pages at a time. The displayed portion of the index of a given summary page will contain links to the 10 preceeding and 10 successive pages in the page sequence.\n",
    "\n",
    "* www\n",
    "  * /code-#.html\n",
    "    * [Detail Page Links]\n",
    "    * [Summary Page Links]\n",
    "\n",
    "* ORA-#####\n",
    "    * [Error Message]\n",
    "    * [Cause]\n",
    "    * [Action]\n",
    "\n",
    "### Define Elements\n",
    "Scrapy can use either CSS selectors oe Xpaths. I prefer to use CSS Selectors. To make sure we're using teh right CSS selectors we will leverage a scrapy shell, which is an interactive shell that will let us see teh data that will be returned. \n",
    "\n",
    "**Open a scrapy shell  (Same commands in BASH, CMD, and Powershell):**\n",
    "```powershell \n",
    "> scrapy shell \"http://www.ora-code.com\"\n",
    "\n",
    "\n",
    "\n",
    "```\n",
    "\n",
    "### Sudo Algorithim \n",
    "Now that we've identified a pattern and understand how the site is organized. We need to come up with a systematic way of spidering through it.\n",
    "\n",
    "Today I'm only interested in the error coded that being in \"ORA\" \n",
    "If you click on each of the error message codes, you will see there is an **Error message**, **Cause** and **Action**, for each of the error codes.\n"
   ]
  },
  {
   "cell_type": "code",
   "execution_count": 2,
   "metadata": {},
   "outputs": [
    {
     "ename": "SyntaxError",
     "evalue": "invalid syntax (<ipython-input-2-5171e4cfc80b>, line 2)",
     "output_type": "error",
     "traceback": [
      "\u001b[1;36m  File \u001b[1;32m\"<ipython-input-2-5171e4cfc80b>\"\u001b[1;36m, line \u001b[1;32m2\u001b[0m\n\u001b[1;33m    scrapy shell \"http://www.ora-code.com\"\u001b[0m\n\u001b[1;37m               ^\u001b[0m\n\u001b[1;31mSyntaxError\u001b[0m\u001b[1;31m:\u001b[0m invalid syntax\n"
     ]
    }
   ],
   "source": [
    "import scrapy\n",
    "scrapy shell \"http://www.ora-code.com\""
   ]
  },
  {
   "cell_type": "markdown",
   "metadata": {},
   "source": [
    "## Building The Scraper\n",
    "\n",
    "During the initial development of a script, I personally do not worry about clean code, I'm just looking a working script as quickly as possible. Once I have a working prototype, then I refine my code. You do not have to take this approach, this is just how I do it, usually because I'm trying to fix a real world issue, and the script is just a tool to help me complete teh taks faster. If I spend more time on writing the script than it would take to perform the task manually, then what's the point?  \n",
    " On the other hand, If I'm going to reuse the code or need to maintain it for teh future, I will go back re-factor, ad add comments so that it can be updated easily by anyone who happens to be using it. \n",
    "\n",
    "Since I am writing this to be helpful to other Cyber Security folks, and new scripters, I will write my script neatly. \n",
    "\n",
    "I want to start a new scrapy project. It is not always nessary especially for a simple scraper like this. but I plan on building this scraper out with additonal features in the future that will require some advances scrapy functions and configuration settings. \n",
    "\n",
    "**  Linux BASH Terminal:**\n",
    "```BASH\n",
    "scrapy startproject OraCode\n",
    "cd OraCode\\OraCode\\spiders\n",
    "touch OraSpider.py\n",
    "```\n",
    "\n",
    "** Windows Powershell Terminal **\n",
    "```powershell\n",
    "scrapy startproject OraCode\n",
    "set-location OraCode\\OraCode\\spiders\n",
    "new-item OraSpider.py\n",
    "```\n",
    "\n",
    "\n",
    "\n",
    "\n",
    "\n",
    "\n",
    "\n",
    "**OraSpider.py:**\n",
    "```python\n",
    "import re #search and select by regular expression\n",
    "import scrapy\n",
    "\n",
    "class OraErrors(scrapy.Spider):\n",
    "    name = \"OracleErrors\"\n",
    "    pageset = []\n",
    "    codeset = []\n",
    "\n",
    "    def start_requests(self):\n",
    "        urls = [\"http://www.ora-code.com/code-1.html\"]\n",
    "        for link in urls:\n",
    "            yield scrapy.Request(url=link, callback=self.parse)\n",
    "\n",
    "    def parse(self, response):\n",
    "        basequery = response.css(\"table[bgcolor='#ffffff']:nth-child(1)\")[2].css(\"a::attr(href)\")\n",
    "        urllist = basequery.extract()\n",
    "        for url in urllist:\n",
    "            if  \"html\" not in url:\n",
    "                yield url\n",
    "                if url not in self.codeset:\n",
    "                    self.codeset.append(url)\n",
    "            else:\n",
    "                if url not in self.pageset:\n",
    "                    nextpage = \"http://www.ora-code.com/\" + url\n",
    "   \n",
    "```"
   ]
  },
  {
   "cell_type": "markdown",
   "metadata": {},
   "source": [
    "Sample test for regular expressions\n",
    "```\n",
    "<GET http://ORA-00028.ora-code.com>\n",
    "<GET http://ORA-06622.ora-code.com>\n",
    "<GET http://ORA-02238.ora-code.com>\n",
    "```"
   ]
  },
  {
   "cell_type": "markdown",
   "metadata": {
    "collapsed": true
   },
   "source": [
    "## Final Script\n",
    "\n",
    "```python\n",
    "import re\n",
    "import scrapy\n",
    "\n",
    "class OraErrors(scrapy.Spider):\n",
    "    name = \"OracleErrors\"\n",
    "    pageset = []\n",
    "    codeset = []\n",
    "\n",
    "    def start_requests(self):\n",
    "        urls = [\"http://www.ora-code.com/code-1.html\"\n",
    "               ]\n",
    "        for link in urls:\n",
    "            yield scrapy.Request(url=link, callback=self.parse)\n",
    "\n",
    "    def parse(self, response):\n",
    "        basequery = response.css(\"table[bgcolor='#ffffff']:nth-child(1)\")[2].css(\"a::attr(href)\")\n",
    "        urllist = basequery.extract()\n",
    "        for url in urllist:\n",
    "            if  \"html\" not in url:\n",
    "                yield url\n",
    "                if url not in self.codeset:\n",
    "                    self.codeset.append(url)\n",
    "                    yield scrapy.Request(url=url, callback=self.ora_extract)\n",
    "            else:\n",
    "                if url not in self.pageset:\n",
    "                    nextpage = \"http://www.ora-code.com/\" + url\n",
    "                    yield scrapy.Request(url=nextpage, callback=self.parse)\n",
    "    \n",
    "    def ora_extract(self, response):\n",
    "        error = response.css(\"table > tr:nth-child(1)\")\n",
    "        ercode = re.findall(r\"ORA-\\d{5}\", str(response.request))\n",
    "        cause = response.css(\"table > tr:nth-child(2) > td:nth-child(2)::text\").extract()\n",
    "        action = response.css(\"table > tr:nth-child(3) > td:nth-child(2)::text\").extract()\n",
    "        yield{\n",
    "            \"errorcode\" : ercode,\n",
    "            \"errormessage\" :  error.css(\"td:nth-child(2)::text\").extract(),\n",
    "            'cause' : str(cause),\n",
    "            'action': str(action),\n",
    "            'reference' : re.findall(r\"ORA-\\d{5}\\.ora-code.com\", str(response.request))\n",
    "        }\n",
    "\n",
    "```\n"
   ]
  },
  {
   "cell_type": "markdown",
   "metadata": {
    "collapsed": true
   },
   "source": [
    "## Run Scrapy without a project \n",
    "\n",
    "``` Python\n",
    "scrapy runspider \"path/to/the/file.py\" -o testoutput.json\n",
    "\n",
    "```"
   ]
  },
  {
   "cell_type": "code",
   "execution_count": null,
   "metadata": {
    "collapsed": true
   },
   "outputs": [],
   "source": []
  }
 ],
 "metadata": {
  "celltoolbar": "Raw Cell Format",
  "kernelspec": {
   "display_name": "Python 3",
   "language": "python",
   "name": "python3"
  },
  "language_info": {
   "codemirror_mode": {
    "name": "ipython",
    "version": 3
   },
   "file_extension": ".py",
   "mimetype": "text/x-python",
   "name": "python",
   "nbconvert_exporter": "python",
   "pygments_lexer": "ipython3",
   "version": "3.6.1"
  }
 },
 "nbformat": 4,
 "nbformat_minor": 2
}
